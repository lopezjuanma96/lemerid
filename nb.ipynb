{
 "cells": [
  {
   "attachments": {},
   "cell_type": "markdown",
   "metadata": {},
   "source": [
    "# TTS Attempt\n",
    "\n",
    "I'm trying to develop my own *simple* and *fast* TTS engine. This is the idea behind it:\n",
    "\n",
    "![diagram](extras/diagram.png)"
   ]
  },
  {
   "attachments": {},
   "cell_type": "markdown",
   "metadata": {},
   "source": [
    "## Imports"
   ]
  },
  {
   "cell_type": "code",
   "execution_count": null,
   "metadata": {},
   "outputs": [],
   "source": [
    "import json\n",
    "import os\n",
    "\n",
    "import simpleaudio as sa, wave\n",
    "import time\n",
    "import scipy.io.wavfile as sciwav\n",
    "import scipy.signal as sgn\n",
    "import numpy as np\n",
    "\n",
    "import re\n",
    "import eng_to_ipa as eti\n",
    "from separasilabas import silabizer\n",
    "\n",
    "import tensorflow as tf"
   ]
  },
  {
   "attachments": {},
   "cell_type": "markdown",
   "metadata": {},
   "source": [
    "## Params"
   ]
  },
  {
   "cell_type": "code",
   "execution_count": null,
   "metadata": {},
   "outputs": [],
   "source": [
    "with open('./params.json', encoding='utf-8') as f:\n",
    "    PARAMS = json.load(f)\n",
    "\n",
    "sb = silabizer()"
   ]
  },
  {
   "attachments": {},
   "cell_type": "markdown",
   "metadata": {},
   "source": [
    "## Load"
   ]
  },
  {
   "attachments": {},
   "cell_type": "markdown",
   "metadata": {},
   "source": [
    "### load audio"
   ]
  },
  {
   "cell_type": "code",
   "execution_count": null,
   "metadata": {},
   "outputs": [],
   "source": [
    "# Using simple audio, it's useful for playing, but it's more complex to get audio data\n",
    "audiowave = wave.open(os.path.join(PARAMS[\"AUDIO_DIR\"], 'common_voice_es_34926129.wav'), 'rb')\n",
    "audioparams = audiowave.getparams()\n",
    "print('Audio Data:\\n')\n",
    "print(audioparams)\n",
    "\n",
    "audioobj = sa.WaveObject.from_wave_read(audiowave)\n",
    "audiowave.close()\n",
    "\n",
    "playobj = audioobj.play()\n",
    "time.sleep(15)\n",
    "playobj.stop()"
   ]
  },
  {
   "cell_type": "code",
   "execution_count": null,
   "metadata": {},
   "outputs": [],
   "source": [
    "# Using scipy, is easier to get data, but it has no playing attr, it would still use simpleaudio for playing\n",
    "audiorate, audiodata = sciwav.read(os.path.join(PARAMS[\"AUDIO_DIR\"], 'common_voice_es_34926129.wav'))\n",
    "\n",
    "print('Audio Data:\\n')\n",
    "print('audiorate:', audiorate)\n",
    "print('audiodata:', audiodata)\n",
    "audioobj = sa.WaveObject(audiodata, 1, 2, 22050)\n",
    "playobj = audioobj.play()\n",
    "time.sleep(15)\n",
    "playobj.stop()"
   ]
  },
  {
   "attachments": {},
   "cell_type": "markdown",
   "metadata": {},
   "source": [
    "We will then use:\n",
    "- native [*wave*](https://docs.python.org/3/library/wave.html) to get the audio file params.\n",
    "- [*simpleaudio*](https://simpleaudio.readthedocs.io/en/latest/tutorial.html) to play the audio\n",
    "- scipy's [*scipy.io.wavfile*](https://docs.scipy.org/doc/scipy/reference/generated/scipy.io.wavfile.read.html) to read the file data (won't use the audiorate returned) "
   ]
  },
  {
   "attachments": {},
   "cell_type": "markdown",
   "metadata": {},
   "source": [
    "### load transcript"
   ]
  },
  {
   "cell_type": "code",
   "execution_count": null,
   "metadata": {},
   "outputs": [],
   "source": [
    "with open(os.path.join(PARAMS[\"TRANS_DIR\"], 'common_voice_es_34926129.txt'), encoding='utf-8') as f:\n",
    "    transtext = f.read().lower()\n",
    "\n",
    "print('Transcript data:')\n",
    "print('text:', transtext)\n",
    "print('wordcount', len(transtext.split(' ')))\n",
    "print('charcount', len(transtext))"
   ]
  },
  {
   "attachments": {},
   "cell_type": "markdown",
   "metadata": {},
   "source": [
    "## Processing"
   ]
  },
  {
   "attachments": {},
   "cell_type": "markdown",
   "metadata": {},
   "source": [
    "### process audio"
   ]
  },
  {
   "cell_type": "code",
   "execution_count": null,
   "metadata": {},
   "outputs": [],
   "source": [
    "SRC_SR = audioparams.framerate\n",
    "DST_SR = PARAMS[\"SAMPLE_RATE\"]\n",
    "SRC_LENGTH = audiodata.shape[0]\n",
    "SRC_SECS = SRC_LENGTH/SRC_SR\n",
    "DST_LENGTH = int(SRC_SECS*DST_SR) #we don't \"time crop\" now to keep all data, see below  \n",
    "\n",
    "#resample\n",
    "if SRC_SR == DST_SR:\n",
    "    audioproc = audiodata.copy()\n",
    "else: #if src has less sr, interpolate. if src has more sr, subsample. scipy signal does both using fourier transform.\n",
    "    audioproc = sgn.resample(audiodata, DST_LENGTH, domain=\"time\").astype(np.int16) #requires astype:https://gist.github.com/alexjaw/09af24d58ac99e1e4cafba092e063fe3\n",
    "\n",
    "#cropping\n",
    "SRC_LENGTH = audioproc.shape[0]\n",
    "DST_LENGTH = int(PARAMS[\"SAMPLE_RATE\"] * PARAMS[\"SECONDS\"]) #we \"time crop\" now, see above\n",
    "\n",
    "if SRC_LENGTH == DST_LENGTH:\n",
    "    pass\n",
    "elif SRC_LENGTH < DST_LENGTH: #padding\n",
    "    dif = DST_LENGTH - SRC_LENGTH\n",
    "    difsplit = int(dif/2)\n",
    "    audioproc = np.pad(audioproc, (difsplit, dif - difsplit)) #pad_width is not difsplit on both sided because of uneven difs\n",
    "else: #cropping\n",
    "    dif = SRC_LENGTH - DST_LENGTH\n",
    "    difsplit = int(dif/2)\n",
    "    audioproc = audioproc[difsplit:dif-difsplit] #crop is not difsplit on both sided because of uneven difs\n",
    "\n",
    "print('processed audio length:', audioproc.shape[0])\n",
    "print(f'processed audio secs at {DST_SR//1000} kHz:', audioproc.shape[0] / DST_SR)"
   ]
  },
  {
   "cell_type": "code",
   "execution_count": null,
   "metadata": {},
   "outputs": [],
   "source": [
    "#relisten to processed audio: it's mostly the same, pitch is a tiny bit phased\n",
    "audioobj = sa.WaveObject(audioproc, 1, 2, 22050)\n",
    "playobj = audioobj.play()"
   ]
  },
  {
   "attachments": {},
   "cell_type": "markdown",
   "metadata": {},
   "source": [
    "### process transcript\n",
    "\n",
    "for this sample notebook i will split the sentence into three letter blocks, but this might be more efficient if separating in phonemes (english) or sílabas (spanish), using [this](https://www.geeksforgeeks.org/convert-english-text-into-the-phonetics-using-python/) and [this](https://github.com/alejandromunozes/separasilabas) respectively."
   ]
  },
  {
   "cell_type": "code",
   "execution_count": null,
   "metadata": {},
   "outputs": [],
   "source": [
    "transproc = re.sub(r'(\\.|\\,|\\¡|\\!|\\¿|\\?)', r' \\1 ', transtext) #separate specific punctuation\n",
    "transproc = re.sub(r'\\&', 'and', transproc) #replace symbols with words\n",
    "transproc = re.sub(r'[^ \\w\\.\\,\\¡\\!\\¿\\?]', r' ', transproc) #strip other symbols (replace with space and later multiple spaces are deleted)\n",
    "transproc = re.sub(r' {2,}', r' ', transproc)\n",
    "\n",
    "print('transcript processed: ', transproc)\n",
    "\n",
    "t_feature = []\n",
    "vocabulary = {'<BEG>', '<SPA>', '<END>', '<NULL>'} #beggining, end, space, and null (for vocabulary elements that don't appear on the training set)\n",
    "t_feature.append('<BEG>')\n",
    "for word in transproc.split(' '):\n",
    "    if word == '' or word.isspace(): #even doing regex sub some words spaces or emprty strings may end up appearing.\n",
    "        continue\n",
    "\n",
    "    if word in ['.', ',', '¡', '!', '¿', '?']:\n",
    "        punct = f'<{word}>'\n",
    "        vocabulary.add(punct)\n",
    "        t_feature.append(punct)\n",
    "        continue\n",
    "    \n",
    "    if PARAMS[\"LANGUAGE\"] == 'en':\n",
    "        phonems = [ph[0] for ph in eti.ipa_list(word)] #ph[0] bc eti return a list with list of phonems in case some phonem has different forms of being presented.\n",
    "    elif PARAMS[\"LANGUAGE\"] == 'es':\n",
    "        phonems = sb(word)\n",
    "    else:\n",
    "        raise ValueError(f'Language provided on PARAMS, {PARAMS[\"LANGUAGE\"]}, has no support.')\n",
    "    \n",
    "    for ph in phonems:\n",
    "        vocabulary.add(ph) #since it's a set, i don't have to care about checking it ph is already on it\n",
    "        t_feature.append(ph)\n",
    "    t_feature.append('<SPA>')\n",
    "t_feature.append('<END>')\n",
    "\n",
    "print('transcript featured:', t_feature)"
   ]
  },
  {
   "attachments": {},
   "cell_type": "markdown",
   "metadata": {},
   "source": [
    "## Feature Build"
   ]
  },
  {
   "attachments": {},
   "cell_type": "markdown",
   "metadata": {},
   "source": [
    "### audio feature"
   ]
  },
  {
   "cell_type": "code",
   "execution_count": null,
   "metadata": {},
   "outputs": [],
   "source": [
    "audio_fv = np.vstack([audioproc[np.newaxis, :, np.newaxis]])\n",
    "print(audio_fv.shape)"
   ]
  },
  {
   "attachments": {},
   "cell_type": "markdown",
   "metadata": {},
   "source": [
    "### transcript feature"
   ]
  },
  {
   "cell_type": "code",
   "execution_count": null,
   "metadata": {},
   "outputs": [],
   "source": [
    "trans_fv = [t_feature]\n",
    "N = len(vocabulary)\n",
    "print('(', len(trans_fv), ',', len(trans_fv[0]), ')')\n",
    "print(N)"
   ]
  },
  {
   "attachments": {},
   "cell_type": "markdown",
   "metadata": {},
   "source": [
    "## Autoencoder"
   ]
  },
  {
   "attachments": {},
   "cell_type": "markdown",
   "metadata": {},
   "source": [
    "### using tensorflow"
   ]
  },
  {
   "cell_type": "code",
   "execution_count": null,
   "metadata": {},
   "outputs": [],
   "source": [
    "inputLayer = tf.keras.layers.Input(audio_fv.shape[1:])\n",
    "\n",
    "kernel_size = PARAMS[\"SAMPLE_RATE\"]//2\n",
    "last_layer = inputLayer\n",
    "layer_number = 1\n",
    "\n",
    "while N < audio_fv.shape[1] // (2**layer_number):\n",
    "    layer_number += 1\n",
    "\n",
    "corrected_N = audio_fv.shape[1] // (2**(layer_number-1)) +1 #HERE: dont know if this is the best way, or to change the MaxPooling so that the shape ends in N\n",
    "\n",
    "for i in range(2, layer_number):                                            #HERE: Replace this with an array generated on above while\n",
    "    hiddenLayer = tf.keras.layers.Conv1D(int(corrected_N*i/layer_number), last_layer.get_shape()[1]//2, padding=\"same\", strides=1)(last_layer)\n",
    "    hiddenLayer = tf.keras.layers.MaxPool1D(2, padding=\"same\")(hiddenLayer)\n",
    "    last_layer = hiddenLayer\n",
    "    print(last_layer.get_shape())\n",
    "\n",
    "hiddenLayer = tf.keras.layers.Conv1D(corrected_N, last_layer.get_shape()[1]//2, padding=\"same\",  strides=1)(last_layer)\n",
    "midLayer = tf.keras.layers.MaxPool1D(2, padding=\"same\")(hiddenLayer)\n",
    "last_layer = midLayer\n",
    "print(last_layer.get_shape())\n",
    "\n",
    "for i in range(layer_number-1, 1, -1):                                              #HERE: Replace this with an array generated on above while\n",
    "    hiddenLayer = tf.keras.layers.Conv1DTranspose(int(corrected_N*i/layer_number), last_layer.get_shape()[1]//2, padding=\"same\", strides=2)(last_layer)\n",
    "    last_layer = hiddenLayer\n",
    "    print(last_layer.get_shape())\n",
    "\n",
    "outputLayer = tf.keras.layers.Conv1DTranspose(1, last_layer.get_shape()[1]//2, padding=\"same\", strides=2)(hiddenLayer)\n",
    "last_layer = outputLayer\n",
    "print(last_layer.get_shape())\n",
    "\n",
    "model = tf.keras.Model(inputs = inputLayer, outputs = outputLayer)\n",
    "model.compile()"
   ]
  },
  {
   "attachments": {},
   "cell_type": "markdown",
   "metadata": {},
   "source": [
    "### using pytorch"
   ]
  },
  {
   "cell_type": "code",
   "execution_count": null,
   "metadata": {},
   "outputs": [],
   "source": []
  }
 ],
 "metadata": {
  "kernelspec": {
   "display_name": "base",
   "language": "python",
   "name": "python3"
  },
  "language_info": {
   "codemirror_mode": {
    "name": "ipython",
    "version": 3
   },
   "file_extension": ".py",
   "mimetype": "text/x-python",
   "name": "python",
   "nbconvert_exporter": "python",
   "pygments_lexer": "ipython3",
   "version": "3.9.13"
  },
  "orig_nbformat": 4,
  "vscode": {
   "interpreter": {
    "hash": "554d31f0a51f29a782bd1eb8b87121ff29a8934295608e8937a718e3d8fbd83c"
   }
  }
 },
 "nbformat": 4,
 "nbformat_minor": 2
}
