{
 "cells": [
  {
   "attachments": {},
   "cell_type": "markdown",
   "metadata": {},
   "source": [
    "# TTS Attempt\n",
    "\n",
    "I'm trying to develop my own *simple* and *fast* TTS engine. This is the idea behind it:\n",
    "\n",
    "![diagram](extras/diagram.png)"
   ]
  },
  {
   "attachments": {},
   "cell_type": "markdown",
   "metadata": {},
   "source": [
    "## Imports"
   ]
  },
  {
   "cell_type": "code",
   "execution_count": null,
   "metadata": {},
   "outputs": [],
   "source": [
    "import json\n",
    "import simpleaudio as sa, wave\n",
    "import time\n",
    "import scipy.io.wavfile as sciwav\n"
   ]
  },
  {
   "attachments": {},
   "cell_type": "markdown",
   "metadata": {},
   "source": [
    "## Params"
   ]
  },
  {
   "cell_type": "code",
   "execution_count": null,
   "metadata": {},
   "outputs": [],
   "source": [
    "with open('./params.json', encoding='utf-8') as f:\n",
    "    PARAMS = json.load(f)"
   ]
  },
  {
   "attachments": {},
   "cell_type": "markdown",
   "metadata": {},
   "source": [
    "## Load"
   ]
  },
  {
   "attachments": {},
   "cell_type": "markdown",
   "metadata": {},
   "source": [
    "### load audio"
   ]
  },
  {
   "cell_type": "code",
   "execution_count": null,
   "metadata": {},
   "outputs": [],
   "source": [
    "# Using simple audio, it's useful for playing, but it's more complex to get audio data\n",
    "audiowave = wave.open('./data/gettysburg10.wav', 'rb')\n",
    "audioparams = audiowave.getparams()\n",
    "print('Audio Data:\\n')\n",
    "print(audioparams)\n",
    "\n",
    "audioobj = sa.WaveObject.from_wave_read(audiowave)\n",
    "audiowave.close()\n",
    "\n",
    "playobj = audioobj.play()\n",
    "time.sleep(1)\n",
    "playobj.stop()"
   ]
  },
  {
   "cell_type": "code",
   "execution_count": null,
   "metadata": {},
   "outputs": [],
   "source": [
    "# Using scipy, is easier to get data, but it has no playing attr, it would still use simpleaudio for playing\n",
    "audiorate, audiodata = sciwav.read('./data/gettysburg10.wav')\n",
    "\n",
    "print('Audio Data:\\n')\n",
    "print('audiorate:', audiorate)\n",
    "print('audiodata:', audiodata)\n",
    "audioobj = sa.WaveObject(audiodata, 1, 2, 22050)\n",
    "playobj = audioobj.play()\n",
    "time.sleep(1)\n",
    "playobj.stop()"
   ]
  },
  {
   "attachments": {},
   "cell_type": "markdown",
   "metadata": {},
   "source": [
    "We will then use:\n",
    "- native [*wave*](https://docs.python.org/3/library/wave.html) to get the audio file params.\n",
    "- [*simpleaudio*](https://simpleaudio.readthedocs.io/en/latest/tutorial.html) to play the audio\n",
    "- scipy's [*scipy.io.wavfile*](https://docs.scipy.org/doc/scipy/reference/generated/scipy.io.wavfile.read.html) to read the file data (won't use the audiorate returned) "
   ]
  },
  {
   "attachments": {},
   "cell_type": "markdown",
   "metadata": {},
   "source": [
    "### load transcript"
   ]
  },
  {
   "cell_type": "code",
   "execution_count": null,
   "metadata": {},
   "outputs": [],
   "source": []
  },
  {
   "attachments": {},
   "cell_type": "markdown",
   "metadata": {},
   "source": [
    "## Processing"
   ]
  },
  {
   "cell_type": "markdown",
   "metadata": {},
   "source": []
  },
  {
   "attachments": {},
   "cell_type": "markdown",
   "metadata": {},
   "source": [
    "## Autoencoder"
   ]
  },
  {
   "cell_type": "code",
   "execution_count": null,
   "metadata": {},
   "outputs": [],
   "source": []
  }
 ],
 "metadata": {
  "kernelspec": {
   "display_name": "base",
   "language": "python",
   "name": "python3"
  },
  "language_info": {
   "codemirror_mode": {
    "name": "ipython",
    "version": 3
   },
   "file_extension": ".py",
   "mimetype": "text/x-python",
   "name": "python",
   "nbconvert_exporter": "python",
   "pygments_lexer": "ipython3",
   "version": "3.9.7"
  },
  "orig_nbformat": 4,
  "vscode": {
   "interpreter": {
    "hash": "496274fea434ad9c7bdee393c2de76eb1059f4f83d1bc64e5d0649e8c0cbab2c"
   }
  }
 },
 "nbformat": 4,
 "nbformat_minor": 2
}
